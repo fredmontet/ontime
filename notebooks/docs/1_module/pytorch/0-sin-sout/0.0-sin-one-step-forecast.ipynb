{
 "cells": [
  {
   "cell_type": "markdown",
   "source": [
    "# Single time step prediction\n",
    "## — with single input "
   ],
   "metadata": {
    "collapsed": false
   },
   "id": "24d30bf7612718ff"
  },
  {
   "cell_type": "code",
   "execution_count": 92,
   "outputs": [],
   "source": [
    "import torch\n",
    "import torch.nn as nn\n",
    "import torch.optim as optim\n",
    "import lightning as L\n",
    "\n",
    "from darts.datasets import EnergyDataset\n",
    "from darts.dataprocessing.transformers import MissingValuesFiller\n",
    "import numpy as np\n",
    "\n",
    "from ontime.module import preprocessing"
   ],
   "metadata": {
    "collapsed": false,
    "ExecuteTime": {
     "end_time": "2023-11-27T09:05:56.336211100Z",
     "start_time": "2023-11-27T09:05:56.299559400Z"
    }
   },
   "id": "306bc540e584196d"
  },
  {
   "cell_type": "markdown",
   "source": [
    "---\n",
    "## Load data"
   ],
   "metadata": {
    "collapsed": false
   },
   "id": "28a5f735d0fe1d50"
  },
  {
   "cell_type": "code",
   "execution_count": 93,
   "outputs": [],
   "source": [
    "energy_ts = EnergyDataset().load()\n",
    "energy_ts = energy_ts.astype(np.float32)\n",
    "single_ts = energy_ts.univariate_component(0)"
   ],
   "metadata": {
    "collapsed": false,
    "ExecuteTime": {
     "end_time": "2023-11-27T09:05:56.440346800Z",
     "start_time": "2023-11-27T09:05:56.305894600Z"
    }
   },
   "id": "a089a3abed4c3940"
  },
  {
   "cell_type": "markdown",
   "source": [
    "---\n",
    "## Preprocessing"
   ],
   "metadata": {
    "collapsed": false
   },
   "id": "63b9067e5f5338eb"
  },
  {
   "cell_type": "code",
   "execution_count": 94,
   "outputs": [],
   "source": [
    "# Fill missing values\n",
    "transformer = MissingValuesFiller()\n",
    "single_ts = transformer.transform(single_ts)\n",
    "\n",
    "# Normalize\n",
    "single_ts = preprocessing.common.normalize(single_ts)\n",
    "\n",
    "# Train test split\n",
    "train, test = preprocessing.common.train_test_split(single_ts, train_split=0.8)\n",
    "\n",
    "# Split in vectors of length n\n",
    "train_list = preprocessing.common.split_by_length(train, length=2, shift=2)\n",
    "test_list = preprocessing.common.split_by_length(test, length=2, shift=2)\n",
    "\n",
    "# Split each vector in input and target\n",
    "X_train, y_train = preprocessing.common.split_inputs_from_targets(train_list, input_length=1, target_length=1)\n",
    "X_test, y_test = preprocessing.common.split_inputs_from_targets(test_list, input_length=1, target_length=1)\n",
    "\n",
    "# Convert to Numpy\n",
    "X_train = preprocessing.common.timeseries_list_to_numpy(X_train)\n",
    "y_train = preprocessing.common.timeseries_list_to_numpy(y_train)\n",
    "X_test = preprocessing.common.timeseries_list_to_numpy(X_test)\n",
    "y_test = preprocessing.common.timeseries_list_to_numpy(y_test)"
   ],
   "metadata": {
    "collapsed": false,
    "ExecuteTime": {
     "end_time": "2023-11-27T09:07:18.903673800Z",
     "start_time": "2023-11-27T09:05:56.445932200Z"
    }
   },
   "id": "5293873f8459ec5a"
  },
  {
   "cell_type": "code",
   "execution_count": 95,
   "outputs": [
    {
     "name": "stdout",
     "output_type": "stream",
     "text": [
      "<class 'numpy.ndarray'>\n",
      "(14025, 1, 1)\n",
      "(3506, 1, 1)\n",
      "(3506, 1, 1)\n"
     ]
    }
   ],
   "source": [
    "print(type(X_train))\n",
    "print(y_train.shape)\n",
    "print(X_test.shape)\n",
    "print(y_test.shape)"
   ],
   "metadata": {
    "collapsed": false,
    "ExecuteTime": {
     "end_time": "2023-11-27T09:07:18.912505400Z",
     "start_time": "2023-11-27T09:07:18.904620800Z"
    }
   },
   "id": "994bdf691ca064b3"
  },
  {
   "cell_type": "markdown",
   "source": [
    "---\n",
    "## Modelling"
   ],
   "metadata": {
    "collapsed": false
   },
   "id": "e9c9fe63e6b8f908"
  },
  {
   "cell_type": "code",
   "execution_count": 96,
   "outputs": [],
   "source": [
    "input_shape = X_train[0].shape\n",
    "output_shape = y_train[0].shape"
   ],
   "metadata": {
    "collapsed": false,
    "ExecuteTime": {
     "end_time": "2023-11-27T09:07:18.928237600Z",
     "start_time": "2023-11-27T09:07:18.912001200Z"
    }
   },
   "id": "dd6a07efdf2b2194"
  },
  {
   "cell_type": "code",
   "execution_count": 97,
   "outputs": [],
   "source": [
    "model = nn.Sequential(\n",
    "    nn.Linear(1, 1),\n",
    "    nn.ReLU()\n",
    ")\n",
    "\n",
    "# Define the loss function and optimizer\n",
    "criterion = nn.MSELoss()\n",
    "optimizer = optim.Adam(model.parameters())\n",
    "\n",
    "# Convert X_train and y_train to PyTorch tensors if not already\n",
    "X_train_tensor = torch.Tensor(X_train)\n",
    "y_train_tensor = torch.Tensor(y_train)\n"
   ],
   "metadata": {
    "collapsed": false,
    "ExecuteTime": {
     "end_time": "2023-11-27T09:07:18.965919500Z",
     "start_time": "2023-11-27T09:07:18.929197200Z"
    }
   },
   "id": "eb21241fa46a9e75"
  },
  {
   "cell_type": "code",
   "execution_count": 98,
   "outputs": [
    {
     "name": "stdout",
     "output_type": "stream",
     "text": [
      "Epoch [500/5000], Loss: 0.0006\n",
      "Epoch [1000/5000], Loss: 0.0006\n",
      "Epoch [1500/5000], Loss: 0.0005\n",
      "Epoch [2000/5000], Loss: 0.0005\n",
      "Epoch [2500/5000], Loss: 0.0005\n",
      "Epoch [3000/5000], Loss: 0.0005\n",
      "Epoch [3500/5000], Loss: 0.0005\n",
      "Epoch [4000/5000], Loss: 0.0005\n",
      "Epoch [4500/5000], Loss: 0.0005\n",
      "Epoch [5000/5000], Loss: 0.0005\n"
     ]
    }
   ],
   "source": [
    "num_epochs = 5000\n",
    "# Training loop\n",
    "for epoch in range(num_epochs):\n",
    "    # Forward pass\n",
    "    outputs = model(X_train_tensor)\n",
    "    loss = criterion(outputs, y_train_tensor)\n",
    "\n",
    "    # Backward pass and optimization\n",
    "    optimizer.zero_grad()  # Clear previous gradients\n",
    "    loss.backward()  # Compute gradients\n",
    "    optimizer.step()  # Update weights\n",
    "\n",
    "    # Print the loss every 500 epochs\n",
    "    if (epoch + 1) % 500 == 0:\n",
    "        print(f'Epoch [{epoch + 1}/{num_epochs}], Loss: {loss.item():.4f}')"
   ],
   "metadata": {
    "collapsed": false,
    "ExecuteTime": {
     "end_time": "2023-11-27T09:07:23.388459800Z",
     "start_time": "2023-11-27T09:07:18.937912700Z"
    }
   },
   "id": "f9fd398bb84b5038"
  },
  {
   "cell_type": "markdown",
   "source": [
    "### Evaluate "
   ],
   "metadata": {
    "collapsed": false
   },
   "id": "9612b49c2d1ceebf"
  },
  {
   "cell_type": "code",
   "execution_count": 99,
   "outputs": [
    {
     "name": "stdout",
     "output_type": "stream",
     "text": [
      "Validation Loss: 0.0003\n"
     ]
    }
   ],
   "source": [
    "\n",
    "# Convert X_val and y_val to PyTorch tensors if not already\n",
    "X_test_tensor = torch.Tensor(X_test)\n",
    "y_test_tensor = torch.Tensor(y_test)\n",
    "\n",
    "# Set the model to evaluation mode\n",
    "model.eval()\n",
    "\n",
    "# Forward pass on the validation set\n",
    "with torch.no_grad():\n",
    "    test_outputs = model(X_test_tensor)\n",
    "    test_loss = criterion(test_outputs, y_test_tensor)\n",
    "\n",
    "print(f'Validation Loss: {test_loss.item():.4f}')\n"
   ],
   "metadata": {
    "collapsed": false,
    "ExecuteTime": {
     "end_time": "2023-11-27T09:07:23.389455500Z",
     "start_time": "2023-11-27T09:07:23.382733500Z"
    }
   },
   "id": "664bc6ff6a8a57c0"
  },
  {
   "cell_type": "markdown",
   "source": [
    "---\n",
    "## Predict"
   ],
   "metadata": {
    "collapsed": false
   },
   "id": "ba15928477fec527"
  },
  {
   "cell_type": "code",
   "execution_count": 100,
   "outputs": [
    {
     "data": {
      "text/plain": "array([[[0.42659786]],\n\n       [[0.43494588]],\n\n       [[0.42158908]],\n\n       ...,\n\n       [[0.5050693 ]],\n\n       [[0.50339967]],\n\n       [[0.49505165]]], dtype=float32)"
     },
     "execution_count": 100,
     "metadata": {},
     "output_type": "execute_result"
    }
   ],
   "source": [
    "# Forward pass on the test set\n",
    "with torch.no_grad():\n",
    "    test_outputs = model(X_test_tensor)\n",
    "\n",
    "# Convert the tensor results back to a NumPy array\n",
    "predicted_values = test_outputs.numpy()\n",
    "\n",
    "predicted_values"
   ],
   "metadata": {
    "collapsed": false,
    "ExecuteTime": {
     "end_time": "2023-11-27T09:07:23.405760600Z",
     "start_time": "2023-11-27T09:07:23.389455500Z"
    }
   },
   "id": "e788ab7fb869c3ec"
  },
  {
   "cell_type": "code",
   "execution_count": 101,
   "outputs": [
    {
     "data": {
      "text/plain": "<Figure size 640x480 with 1 Axes>",
      "image/png": "[encoded data removed]"
     },
     "metadata": {},
     "output_type": "display_data"
    }
   ],
   "source": [
    "import pandas as pd\n",
    "import matplotlib.pyplot as plt\n",
    "\n",
    "start = 500\n",
    "width = 100\n",
    "\n",
    "fig, ax = plt.subplots()\n",
    "pd.DataFrame(y_test.squeeze()[start:start + width]).plot(ax=ax)\n",
    "pd.DataFrame(predicted_values.squeeze()[start:start + width]).plot(ax=ax)\n",
    "ax.legend(['test', 'pred']);"
   ],
   "metadata": {
    "collapsed": false,
    "ExecuteTime": {
     "end_time": "2023-11-27T09:07:23.596048500Z",
     "start_time": "2023-11-27T09:07:23.401689100Z"
    }
   },
   "id": "bca2ba741155e82f"
  }
 ],
 "metadata": {
  "kernelspec": {
   "display_name": "Python 3",
   "language": "python",
   "name": "python3"
  },
  "language_info": {
   "codemirror_mode": {
    "name": "ipython",
    "version": 2
   },
   "file_extension": ".py",
   "mimetype": "text/x-python",
   "name": "python",
   "nbconvert_exporter": "python",
   "pygments_lexer": "ipython2",
   "version": "2.7.6"
  }
 },
 "nbformat": 4,
 "nbformat_minor": 5
}
