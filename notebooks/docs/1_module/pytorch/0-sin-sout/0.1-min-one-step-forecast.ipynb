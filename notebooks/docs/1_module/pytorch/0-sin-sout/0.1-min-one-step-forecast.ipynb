{
 "cells": [
  {
   "cell_type": "markdown",
   "source": [
    "# Single time step prediction\n",
    "## — with single input "
   ],
   "metadata": {
    "collapsed": false
   },
   "id": "24d30bf7612718ff"
  },
  {
   "cell_type": "code",
   "execution_count": 1,
   "outputs": [],
   "source": [
    "import torch\n",
    "import torch.nn as nn\n",
    "import torch.optim as optim\n",
    "\n",
    "from darts.datasets import EnergyDataset\n",
    "from darts.dataprocessing.transformers import MissingValuesFiller\n",
    "import numpy as np\n",
    "\n",
    "from ontime.module import preprocessing"
   ],
   "metadata": {
    "collapsed": false,
    "ExecuteTime": {
     "end_time": "2023-11-29T07:31:06.088712700Z",
     "start_time": "2023-11-29T07:30:50.630300700Z"
    }
   },
   "id": "306bc540e584196d"
  },
  {
   "cell_type": "code",
   "execution_count": 2,
   "outputs": [],
   "source": [
    "input_length = 10\n",
    "target_length = 1\n",
    "nb_neurons_hidden_layer = 30\n",
    "shift = 2\n",
    "num_epochs = 500"
   ],
   "metadata": {
    "collapsed": false,
    "ExecuteTime": {
     "end_time": "2023-11-29T07:31:06.098488700Z",
     "start_time": "2023-11-29T07:31:06.088712700Z"
    }
   },
   "id": "258cb12a6328c0cc"
  },
  {
   "cell_type": "markdown",
   "source": [
    "---\n",
    "## Load data"
   ],
   "metadata": {
    "collapsed": false
   },
   "id": "28a5f735d0fe1d50"
  },
  {
   "cell_type": "code",
   "execution_count": 3,
   "outputs": [],
   "source": [
    "energy_ts = EnergyDataset().load()\n",
    "energy_ts = energy_ts.astype(np.float32)\n",
    "single_ts = energy_ts.univariate_component(0)"
   ],
   "metadata": {
    "collapsed": false,
    "ExecuteTime": {
     "end_time": "2023-11-29T07:31:06.279893500Z",
     "start_time": "2023-11-29T07:31:06.097482100Z"
    }
   },
   "id": "a089a3abed4c3940"
  },
  {
   "cell_type": "markdown",
   "source": [
    "---\n",
    "## Preprocessing"
   ],
   "metadata": {
    "collapsed": false
   },
   "id": "63b9067e5f5338eb"
  },
  {
   "cell_type": "code",
   "execution_count": 4,
   "outputs": [],
   "source": [
    "# Fill missing values\n",
    "transformer = MissingValuesFiller()\n",
    "single_ts = transformer.transform(single_ts)\n",
    "\n",
    "# Normalize\n",
    "single_ts = preprocessing.common.normalize(single_ts)\n",
    "\n",
    "# Train test split\n",
    "train, test = preprocessing.common.train_test_split(single_ts, train_split=0.8)\n",
    "\n",
    "# Split in vectors of length n\n",
    "train_list = preprocessing.common.split_by_length(train, length=input_length + target_length, shift=shift)\n",
    "test_list = preprocessing.common.split_by_length(test, length=input_length + target_length, shift=shift)\n",
    "\n",
    "# Split each vector in input and target\n",
    "X_train, y_train = preprocessing.common.split_inputs_from_targets(train_list, input_length=input_length,\n",
    "                                                                  target_length=target_length)\n",
    "X_test, y_test = preprocessing.common.split_inputs_from_targets(test_list, input_length=input_length,\n",
    "                                                                target_length=target_length)\n",
    "\n",
    "# Convert to Numpy\n",
    "X_train = preprocessing.common.timeseries_list_to_numpy(X_train)\n",
    "y_train = preprocessing.common.timeseries_list_to_numpy(y_train)\n",
    "X_test = preprocessing.common.timeseries_list_to_numpy(X_test)\n",
    "y_test = preprocessing.common.timeseries_list_to_numpy(y_test)"
   ],
   "metadata": {
    "collapsed": false,
    "ExecuteTime": {
     "end_time": "2023-11-29T07:32:31.532569500Z",
     "start_time": "2023-11-29T07:31:06.279893500Z"
    }
   },
   "id": "5293873f8459ec5a"
  },
  {
   "cell_type": "code",
   "execution_count": 5,
   "outputs": [
    {
     "name": "stdout",
     "output_type": "stream",
     "text": [
      "(14020, 10, 1)\n",
      "(14020, 1, 1)\n",
      "(3501, 10, 1)\n",
      "(3501, 1, 1)\n"
     ]
    }
   ],
   "source": [
    "print(X_train.shape)\n",
    "print(y_train.shape)\n",
    "print(X_test.shape)\n",
    "print(y_test.shape)"
   ],
   "metadata": {
    "collapsed": false,
    "ExecuteTime": {
     "end_time": "2023-11-29T07:32:31.551582700Z",
     "start_time": "2023-11-29T07:32:31.534896Z"
    }
   },
   "id": "994bdf691ca064b3"
  },
  {
   "cell_type": "markdown",
   "source": [
    "---\n",
    "## Modelling"
   ],
   "metadata": {
    "collapsed": false
   },
   "id": "e9c9fe63e6b8f908"
  },
  {
   "cell_type": "code",
   "execution_count": 6,
   "outputs": [],
   "source": [
    "model = nn.Sequential(\n",
    "    nn.Flatten(),    \n",
    "    nn.Linear(input_length, nb_neurons_hidden_layer),\n",
    "    nn.ReLU(),\n",
    "    nn.Linear(nb_neurons_hidden_layer, target_length)\n",
    ")\n",
    "\n",
    "# Define the loss function and optimizer\n",
    "criterion = nn.MSELoss()\n",
    "optimizer = optim.Adam(model.parameters())\n",
    "\n",
    "# Convert X_train and y_train to PyTorch tensors if not already\n",
    "X_train_tensor = torch.Tensor(X_train)\n",
    "y_train_tensor = torch.Tensor(y_train)"
   ],
   "metadata": {
    "collapsed": false,
    "ExecuteTime": {
     "end_time": "2023-11-29T07:32:31.595490300Z",
     "start_time": "2023-11-29T07:32:31.550479Z"
    }
   },
   "id": "eb21241fa46a9e75"
  },
  {
   "cell_type": "code",
   "execution_count": 7,
   "outputs": [
    {
     "name": "stderr",
     "output_type": "stream",
     "text": [
      "C:\\Users\\vince\\AppData\\Local\\pypoetry\\Cache\\virtualenvs\\ontime-FclhqCOu-py3.11\\Lib\\site-packages\\torch\\nn\\modules\\loss.py:536: UserWarning: Using a target size (torch.Size([14020, 1, 1])) that is different to the input size (torch.Size([14020, 1])). This will likely lead to incorrect results due to broadcasting. Please ensure they have the same size.\n",
      "  return F.mse_loss(input, target, reduction=self.reduction)\n"
     ]
    },
    {
     "name": "stdout",
     "output_type": "stream",
     "text": [
      "Epoch [100/500], Loss: 0.0307\n",
      "Epoch [200/500], Loss: 0.0292\n",
      "Epoch [300/500], Loss: 0.0274\n",
      "Epoch [400/500], Loss: 0.0254\n",
      "Epoch [500/500], Loss: 0.0236\n"
     ]
    }
   ],
   "source": [
    "\n",
    "# Training loop\n",
    "for epoch in range(num_epochs):\n",
    "    # Forward pass\n",
    "    outputs = model(X_train_tensor)\n",
    "    loss = criterion(outputs, y_train_tensor)\n",
    "\n",
    "    # Backward pass and optimization\n",
    "    optimizer.zero_grad()  # Clear previous gradients\n",
    "    loss.backward()  # Compute gradients\n",
    "    optimizer.step()  # Update weights\n",
    "\n",
    "    # Print the loss every 100 epochs\n",
    "    if (epoch + 1) % 100 == 0:\n",
    "        print(f'Epoch [{epoch + 1}/{num_epochs}], Loss: {loss.item():.4f}')"
   ],
   "metadata": {
    "collapsed": false,
    "ExecuteTime": {
     "end_time": "2023-11-29T07:34:47.581707800Z",
     "start_time": "2023-11-29T07:32:31.575211800Z"
    }
   },
   "id": "f9fd398bb84b5038"
  },
  {
   "cell_type": "markdown",
   "source": [
    "### Evaluate "
   ],
   "metadata": {
    "collapsed": false
   },
   "id": "9612b49c2d1ceebf"
  },
  {
   "cell_type": "code",
   "execution_count": 8,
   "outputs": [
    {
     "name": "stdout",
     "output_type": "stream",
     "text": [
      "Validation Loss: 0.0117\n"
     ]
    },
    {
     "name": "stderr",
     "output_type": "stream",
     "text": [
      "C:\\Users\\vince\\AppData\\Local\\pypoetry\\Cache\\virtualenvs\\ontime-FclhqCOu-py3.11\\Lib\\site-packages\\torch\\nn\\modules\\loss.py:536: UserWarning: Using a target size (torch.Size([3501, 1, 1])) that is different to the input size (torch.Size([3501, 1])). This will likely lead to incorrect results due to broadcasting. Please ensure they have the same size.\n",
      "  return F.mse_loss(input, target, reduction=self.reduction)\n"
     ]
    }
   ],
   "source": [
    "# Convert X_val and y_val to PyTorch tensors if not already\n",
    "X_test_tensor = torch.Tensor(X_test)\n",
    "y_test_tensor = torch.Tensor(y_test)\n",
    "\n",
    "# Set the model to evaluation mode\n",
    "model.eval()\n",
    "\n",
    "# Forward pass on the validation set\n",
    "with torch.no_grad():\n",
    "    test_outputs = model(X_test_tensor)\n",
    "    test_loss = criterion(test_outputs, y_test_tensor)\n",
    "\n",
    "print(f'Validation Loss: {test_loss.item():.4f}')\n"
   ],
   "metadata": {
    "collapsed": false,
    "ExecuteTime": {
     "end_time": "2023-11-29T07:34:47.583165700Z",
     "start_time": "2023-11-29T07:34:47.571045200Z"
    }
   },
   "id": "664bc6ff6a8a57c0"
  },
  {
   "cell_type": "markdown",
   "source": [
    "---\n",
    "## Predict"
   ],
   "metadata": {
    "collapsed": false
   },
   "id": "ba15928477fec527"
  },
  {
   "cell_type": "code",
   "execution_count": 9,
   "outputs": [
    {
     "data": {
      "text/plain": "array([[0.60410035],\n       [0.60728645],\n       [0.6084075 ],\n       ...,\n       [0.6262788 ],\n       [0.6291159 ],\n       [0.62449217]], dtype=float32)"
     },
     "execution_count": 9,
     "metadata": {},
     "output_type": "execute_result"
    }
   ],
   "source": [
    "# Forward pass on the test set\n",
    "with torch.no_grad():\n",
    "    test_outputs = model(X_test_tensor)\n",
    "\n",
    "# Convert the tensor results back to a NumPy array\n",
    "predicted_values = test_outputs.numpy()\n",
    "\n",
    "predicted_values"
   ],
   "metadata": {
    "collapsed": false,
    "ExecuteTime": {
     "end_time": "2023-11-29T07:34:47.603149700Z",
     "start_time": "2023-11-29T07:34:47.583165700Z"
    }
   },
   "id": "e788ab7fb869c3ec"
  },
  {
   "cell_type": "code",
   "execution_count": 10,
   "outputs": [
    {
     "data": {
      "text/plain": "<Figure size 640x480 with 1 Axes>",
      "image/png": "[encoded data removed]"
     },
     "metadata": {},
     "output_type": "display_data"
    }
   ],
   "source": [
    "import pandas as pd\n",
    "import matplotlib.pyplot as plt\n",
    "\n",
    "start = 500\n",
    "width = 100\n",
    "\n",
    "fig, ax = plt.subplots()\n",
    "pd.DataFrame(y_test.squeeze()[start:start + width]).plot(ax=ax)\n",
    "pd.DataFrame(predicted_values.squeeze()[start:start + width]).plot(ax=ax)\n",
    "ax.legend(['test', 'pred']);"
   ],
   "metadata": {
    "collapsed": false,
    "ExecuteTime": {
     "end_time": "2023-11-29T07:34:47.825467300Z",
     "start_time": "2023-11-29T07:34:47.589190Z"
    }
   },
   "id": "bca2ba741155e82f"
  },
  {
   "cell_type": "code",
   "execution_count": 10,
   "outputs": [],
   "source": [],
   "metadata": {
    "collapsed": false,
    "ExecuteTime": {
     "end_time": "2023-11-29T07:34:47.835788600Z",
     "start_time": "2023-11-29T07:34:47.824956100Z"
    }
   },
   "id": "9f5a6339a5e99b42"
  }
 ],
 "metadata": {
  "kernelspec": {
   "display_name": "Python 3",
   "language": "python",
   "name": "python3"
  },
  "language_info": {
   "codemirror_mode": {
    "name": "ipython",
    "version": 2
   },
   "file_extension": ".py",
   "mimetype": "text/x-python",
   "name": "python",
   "nbconvert_exporter": "python",
   "pygments_lexer": "ipython2",
   "version": "2.7.6"
  }
 },
 "nbformat": 4,
 "nbformat_minor": 5
}
