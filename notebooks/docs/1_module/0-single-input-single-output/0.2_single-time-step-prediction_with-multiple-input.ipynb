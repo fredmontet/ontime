{
 "cells": [
  {
   "cell_type": "markdown",
   "id": "41296cc6-9d84-47c5-8a92-2d292f6f3c4a",
   "metadata": {},
   "source": [
    "# Single time step prediction\n",
    "## — with single input "
   ]
  },
  {
   "cell_type": "code",
   "execution_count": 26,
   "id": "2028eed7-b1c3-4c9e-b6a0-00433caa7d0f",
   "metadata": {},
   "outputs": [],
   "source": [
    "# Import to be able to import python package from src\n",
    "import sys\n",
    "sys.path.insert(0, '../src')\n",
    "\n",
    "import pandas as pd\n",
    "import numpy as np\n",
    "import tensorflow as tf\n",
    "from darts.datasets import EnergyDataset\n",
    "from darts.dataprocessing.transformers import MissingValuesFiller\n",
    "from sklearn.metrics import mean_absolute_percentage_error as mape\n",
    "import matplotlib.pyplot as plt\n",
    "\n",
    "import ontime as on\n",
    "from ontime.module import preprocessing"
   ]
  },
  {
   "cell_type": "markdown",
   "id": "e24da8ab-6a83-4c2f-9ff0-c633d4693a91",
   "metadata": {},
   "source": [
    "---\n",
    "## Load data"
   ]
  },
  {
   "cell_type": "code",
   "execution_count": 6,
   "id": "e9a96d79-0423-4d79-b01d-726193216238",
   "metadata": {},
   "outputs": [],
   "source": [
    "ts = EnergyDataset().load()\n",
    "ts = ts.astype(np.float32)"
   ]
  },
  {
   "cell_type": "code",
   "execution_count": 7,
   "id": "c247caca-f766-44b6-bfd2-34b5890ea0f2",
   "metadata": {},
   "outputs": [],
   "source": [
    "ts = ts.univariate_component(0)"
   ]
  },
  {
   "cell_type": "markdown",
   "id": "1d4bec6b-eedb-4a88-ba68-dbeae5f0644e",
   "metadata": {},
   "source": [
    "---"
   ]
  },
  {
   "cell_type": "markdown",
   "id": "c2c873dd-8643-40cd-895b-fddd7a515c6d",
   "metadata": {},
   "source": [
    "## Preprocessing"
   ]
  },
  {
   "cell_type": "code",
   "execution_count": 21,
   "id": "a4b12f07-8a97-403a-a554-89e166574120",
   "metadata": {},
   "outputs": [],
   "source": [
    "# Fill missing values\n",
    "transformer = MissingValuesFiller()\n",
    "ts = transformer.transform(ts)\n",
    "\n",
    "# Normalize\n",
    "ts_t = preprocessing.common.normalize(ts)\n",
    "\n",
    "# Train test split\n",
    "train, test = preprocessing.common.train_test_split(ts_t, train_split=0.8)\n",
    "\n",
    "# Split in vectors of length n\n",
    "train_list = preprocessing.common.split_by_length(train, length=2, shift=2)\n",
    "test_list = preprocessing.common.split_by_length(test, length=2, shift=2)\n",
    "\n",
    "# Split each vector in input and target\n",
    "X_train, y_train = preprocessing.common.split_inputs_from_targets(train_list, input_length=1, target_length=1)\n",
    "X_test, y_test = preprocessing.common.split_inputs_from_targets(test_list, input_length=1, target_length=1)\n",
    "\n",
    "# Convert to Numpy\n",
    "X_train = preprocessing.common.timeseries_list_to_numpy(X_train)\n",
    "y_train = preprocessing.common.timeseries_list_to_numpy(y_train)\n",
    "X_test = preprocessing.common.timeseries_list_to_numpy(X_test)\n",
    "y_test = preprocessing.common.timeseries_list_to_numpy(y_test)"
   ]
  },
  {
   "cell_type": "code",
   "execution_count": 22,
   "id": "aa1f2525-61be-4c5b-8122-a01829f1ad5c",
   "metadata": {},
   "outputs": [
    {
     "name": "stdout",
     "output_type": "stream",
     "text": [
      "(14025, 1, 1)\n",
      "(14025, 1, 1)\n",
      "(3506, 1, 1)\n",
      "(3506, 1, 1)\n"
     ]
    }
   ],
   "source": [
    "print(X_train.shape)\n",
    "print(y_train.shape)\n",
    "print(X_test.shape)\n",
    "print(y_test.shape)"
   ]
  },
  {
   "cell_type": "markdown",
   "id": "ea9d5976-e5ee-44f2-a882-47789872d7c3",
   "metadata": {},
   "source": [
    "---\n",
    "## Modelling"
   ]
  },
  {
   "cell_type": "code",
   "execution_count": 24,
   "id": "4b6daf4c-e709-42f9-a296-d7decc3a4945",
   "metadata": {},
   "outputs": [],
   "source": [
    "input_shape = X_train[0].shape\n",
    "output_shape = y_train[0].shape"
   ]
  },
  {
   "cell_type": "code",
   "execution_count": 37,
   "id": "f1001de6-a6b7-4880-9622-ad6655498768",
   "metadata": {},
   "outputs": [
    {
     "name": "stderr",
     "output_type": "stream",
     "text": [
      "absl       WARNING At this time, the v2.11+ optimizer `tf.keras.optimizers.Adam` runs slowly on M1/M2 Macs, please use the legacy Keras optimizer instead, located at `tf.keras.optimizers.legacy.Adam`.\n"
     ]
    },
    {
     "name": "stdout",
     "output_type": "stream",
     "text": [
      "Epoch 1/4\n",
      "439/439 [==============================] - 0s 382us/step - loss: 0.0266 - mean_absolute_error: 0.0881\n",
      "Epoch 2/4\n",
      "439/439 [==============================] - 0s 326us/step - loss: 0.0014 - mean_absolute_error: 0.0277\n",
      "Epoch 3/4\n",
      "439/439 [==============================] - 0s 325us/step - loss: 6.2335e-04 - mean_absolute_error: 0.0142\n",
      "Epoch 4/4\n",
      "439/439 [==============================] - 0s 325us/step - loss: 5.2271e-04 - mean_absolute_error: 0.0104\n"
     ]
    },
    {
     "data": {
      "text/plain": [
       "<keras.src.callbacks.History at 0x2f2d93d60>"
      ]
     },
     "execution_count": 37,
     "metadata": {},
     "output_type": "execute_result"
    }
   ],
   "source": [
    "model = tf.keras.Sequential([\n",
    "    tf.keras.layers.Flatten(input_shape=input_shape),\n",
    "    tf.keras.layers.Dense(units=1),\n",
    "    tf.keras.layers.Dense(32, activation='relu'),\n",
    "    tf.keras.layers.Dense(output_shape[0])\n",
    "])\n",
    "\n",
    "model.compile(\n",
    "    loss=tf.keras.losses.MeanSquaredError(),\n",
    "    optimizer=tf.keras.optimizers.Adam(),\n",
    "    metrics=[tf.keras.metrics.MeanAbsoluteError()]\n",
    ")\n",
    "\n",
    "model.fit(\n",
    "    X_train,\n",
    "    y_train,\n",
    "    epochs=4\n",
    ")"
   ]
  },
  {
   "cell_type": "markdown",
   "id": "6fb858e0-b044-415f-9926-f0d2630fe053",
   "metadata": {},
   "source": [
    "### Evaluate "
   ]
  },
  {
   "cell_type": "code",
   "execution_count": 38,
   "id": "91d015b3-ff97-407c-aa57-28293f71ee52",
   "metadata": {},
   "outputs": [
    {
     "name": "stdout",
     "output_type": "stream",
     "text": [
      "110/110 [==============================] - 0s 363us/step - loss: 2.7174e-04 - mean_absolute_error: 0.0083\n"
     ]
    },
    {
     "data": {
      "text/plain": [
       "[0.0002717369352467358, 0.008274668827652931]"
      ]
     },
     "execution_count": 38,
     "metadata": {},
     "output_type": "execute_result"
    }
   ],
   "source": [
    "model.evaluate(X_test, y_test)"
   ]
  },
  {
   "cell_type": "markdown",
   "id": "7cd84360-dc48-4833-8a5e-4151d6e44303",
   "metadata": {},
   "source": [
    "---\n",
    "## Predict"
   ]
  },
  {
   "cell_type": "code",
   "execution_count": 39,
   "id": "d1558242-2c8e-450b-8f23-493696496aa0",
   "metadata": {},
   "outputs": [
    {
     "name": "stdout",
     "output_type": "stream",
     "text": [
      "110/110 [==============================] - 0s 344us/step\n"
     ]
    }
   ],
   "source": [
    "y_pred = model.predict(X_test)"
   ]
  },
  {
   "cell_type": "code",
   "execution_count": 42,
   "id": "0aae51bb-ef8a-4fb8-a5fc-757bb9c1d4c1",
   "metadata": {},
   "outputs": [
    {
     "data": {
      "text/plain": [
       "0.016316911"
      ]
     },
     "execution_count": 42,
     "metadata": {},
     "output_type": "execute_result"
    }
   ],
   "source": [
    "mape(y_pred.squeeze(), y_test.squeeze())"
   ]
  },
  {
   "cell_type": "code",
   "execution_count": 36,
   "id": "61681f16-33d8-4d41-8902-d16a045e132d",
   "metadata": {},
   "outputs": [
    {
     "data": {
      "text/plain": [
       "<Axes: >"
      ]
     },
     "execution_count": 36,
     "metadata": {},
     "output_type": "execute_result"
    },
    {
     "data": {
      "image/png": "[encoded data removed]",
      "text/plain": [
       "<Figure size 640x480 with 1 Axes>"
      ]
     },
     "metadata": {},
     "output_type": "display_data"
    }
   ],
   "source": [
    "start = 500\n",
    "width = 100\n",
    "\n",
    "fig, ax = plt.subplots()\n",
    "pd.DataFrame(y_test.squeeze()[start:start+width]).plot(ax=ax)\n",
    "pd.DataFrame(y_pred.squeeze()[start:start+width]).plot(ax=ax)"
   ]
  },
  {
   "cell_type": "code",
   "execution_count": null,
   "id": "6b87bcc0-7b7f-4320-912b-40fe0e42aebe",
   "metadata": {},
   "outputs": [],
   "source": []
  }
 ],
 "metadata": {
  "kernelspec": {
   "display_name": "Python 3 (ipykernel)",
   "language": "python",
   "name": "python3"
  },
  "language_info": {
   "codemirror_mode": {
    "name": "ipython",
    "version": 3
   },
   "file_extension": ".py",
   "mimetype": "text/x-python",
   "name": "python",
   "nbconvert_exporter": "python",
   "pygments_lexer": "ipython3",
   "version": "3.10.10"
  }
 },
 "nbformat": 4,
 "nbformat_minor": 5
}
