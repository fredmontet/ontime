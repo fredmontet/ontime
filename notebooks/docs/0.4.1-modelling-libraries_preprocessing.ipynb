{
 "cells": [
  {
   "cell_type": "markdown",
   "id": "41296cc6-9d84-47c5-8a92-2d292f6f3c4a",
   "metadata": {},
   "source": [
    "# Modelling Libraries - Preprocessing"
   ]
  },
  {
   "cell_type": "code",
   "execution_count": 1,
   "id": "9286e0b8-3c78-4b0f-943c-d219e9840dfe",
   "metadata": {},
   "outputs": [],
   "source": [
    "# Import to be able to import python package from src\n",
    "import sys\n",
    "sys.path.insert(0, '../src')"
   ]
  },
  {
   "cell_type": "code",
   "execution_count": 2,
   "id": "2028eed7-b1c3-4c9e-b6a0-00433caa7d0f",
   "metadata": {},
   "outputs": [
    {
     "name": "stderr",
     "output_type": "stream",
     "text": [
      "The `LightGBM` module could not be imported. To enable LightGBM support in Darts, follow the detailed instructions in the installation guide: https://github.com/unit8co/darts/blob/master/INSTALL.md\n",
      "The `Prophet` module could not be imported. To enable Prophet support in Darts, follow the detailed instructions in the installation guide: https://github.com/unit8co/darts/blob/master/INSTALL.md\n",
      "/Users/fred.montet/Library/Caches/pypoetry/virtualenvs/ontime-FpQu8-YN-py3.10/lib/python3.10/site-packages/statsforecast/core.py:21: TqdmWarning: IProgress not found. Please update jupyter and ipywidgets. See https://ipywidgets.readthedocs.io/en/stable/user_install.html\n",
      "  from tqdm.autonotebook import tqdm\n"
     ]
    }
   ],
   "source": [
    "import pandas as pd\n",
    "import numpy as np\n",
    "import ontime as on\n",
    "from darts.datasets import EnergyDataset"
   ]
  },
  {
   "cell_type": "markdown",
   "id": "e24da8ab-6a83-4c2f-9ff0-c633d4693a91",
   "metadata": {},
   "source": [
    "---\n",
    "## Load data"
   ]
  },
  {
   "cell_type": "code",
   "execution_count": 5,
   "id": "e9a96d79-0423-4d79-b01d-726193216238",
   "metadata": {},
   "outputs": [],
   "source": [
    "ts = EnergyDataset().load()\n",
    "ts = ts.astype(np.float32)"
   ]
  },
  {
   "cell_type": "markdown",
   "id": "1d4bec6b-eedb-4a88-ba68-dbeae5f0644e",
   "metadata": {},
   "source": [
    "---"
   ]
  },
  {
   "cell_type": "markdown",
   "id": "c2c873dd-8643-40cd-895b-fddd7a515c6d",
   "metadata": {},
   "source": [
    "## Preprocessing"
   ]
  },
  {
   "cell_type": "markdown",
   "id": "b7ab9b51-6c63-4068-ac53-98790bf55fde",
   "metadata": {},
   "source": [
    "- [x] Normalize\n",
    "- [x] Split train, test, val\n",
    "- [ ] Feature engineering\n",
    "        - add weather for location\n",
    "        - add day of the week, month, year, etc.\n",
    "        - add whatever\n",
    "- [x] Windowing\n",
    "- [x] Windowing - Split (parts to train as X, parts to predict as y)"
   ]
  },
  {
   "cell_type": "markdown",
   "id": "9b508ee5-7c7e-4793-904e-45a40df354db",
   "metadata": {},
   "source": [
    "### Test with common functions"
   ]
  },
  {
   "cell_type": "code",
   "execution_count": 6,
   "id": "a4b12f07-8a97-403a-a554-89e166574120",
   "metadata": {},
   "outputs": [
    {
     "name": "stderr",
     "output_type": "stream",
     "text": [
      "/Users/fred.montet/Library/Caches/pypoetry/virtualenvs/ontime-FpQu8-YN-py3.10/lib/python3.10/site-packages/sklearn/preprocessing/_data.py:479: RuntimeWarning: All-NaN slice encountered\n",
      "  data_min = np.nanmin(X, axis=0)\n",
      "/Users/fred.montet/Library/Caches/pypoetry/virtualenvs/ontime-FpQu8-YN-py3.10/lib/python3.10/site-packages/sklearn/preprocessing/_data.py:480: RuntimeWarning: All-NaN slice encountered\n",
      "  data_max = np.nanmax(X, axis=0)\n"
     ]
    }
   ],
   "source": [
    "ts_t = on.model.preprocessing.common.normalize(ts)"
   ]
  },
  {
   "cell_type": "code",
   "execution_count": 8,
   "id": "8b67892d-db8c-4f12-93b6-147016da4186",
   "metadata": {},
   "outputs": [],
   "source": [
    "train, test = on.model.preprocessing.common.train_test_split(ts_t, train_split=0.8)"
   ]
  },
  {
   "cell_type": "code",
   "execution_count": 9,
   "id": "500e954a-82d6-4eff-bbdd-0b889c2a10f8",
   "metadata": {},
   "outputs": [],
   "source": [
    "train_list = on.model.preprocessing.common.split_by_length(train, 6)\n",
    "test_list = on.model.preprocessing.common.split_by_length(test, 6)"
   ]
  },
  {
   "cell_type": "code",
   "execution_count": 10,
   "id": "f7897c44-71ba-4752-86c6-547387245ae4",
   "metadata": {},
   "outputs": [],
   "source": [
    "X_train, y_train = on.model.preprocessing.common.split_inputs_from_targets(train_list, 4, 2)\n",
    "X_test, y_test = on.model.preprocessing.common.split_inputs_from_targets(test_list, 4, 2)"
   ]
  },
  {
   "cell_type": "code",
   "execution_count": 11,
   "id": "a4ab9cfa-289d-4d8e-be40-d5d4247f5ab5",
   "metadata": {},
   "outputs": [],
   "source": [
    "X_train = on.model.preprocessing.common.timeseries_list_to_numpy(X_train)\n",
    "y_train = on.model.preprocessing.common.timeseries_list_to_numpy(y_train)\n",
    "X_test = on.model.preprocessing.common.timeseries_list_to_numpy(X_test)\n",
    "y_test = on.model.preprocessing.common.timeseries_list_to_numpy(y_test)"
   ]
  },
  {
   "cell_type": "code",
   "execution_count": 12,
   "id": "1b0a2843-6d02-4b08-96f8-91712e521bf5",
   "metadata": {},
   "outputs": [
    {
     "name": "stdout",
     "output_type": "stream",
     "text": [
      "(4675, 4, 28)\n",
      "(4675, 2, 28)\n",
      "(1168, 4, 28)\n",
      "(1168, 2, 28)\n"
     ]
    }
   ],
   "source": [
    "print(X_train.shape)\n",
    "print(y_train.shape)\n",
    "print(X_test.shape)\n",
    "print(y_test.shape)"
   ]
  },
  {
   "cell_type": "code",
   "execution_count": null,
   "id": "54b0dfbd-be2f-4a3e-b152-f0bab31bb372",
   "metadata": {},
   "outputs": [],
   "source": []
  }
 ],
 "metadata": {
  "kernelspec": {
   "display_name": "Python 3 (ipykernel)",
   "language": "python",
   "name": "python3"
  },
  "language_info": {
   "codemirror_mode": {
    "name": "ipython",
    "version": 3
   },
   "file_extension": ".py",
   "mimetype": "text/x-python",
   "name": "python",
   "nbconvert_exporter": "python",
   "pygments_lexer": "ipython3",
   "version": "3.10.10"
  }
 },
 "nbformat": 4,
 "nbformat_minor": 5
}
